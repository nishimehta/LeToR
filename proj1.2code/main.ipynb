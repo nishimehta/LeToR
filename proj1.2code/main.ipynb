{
 "cells": [
  {
   "cell_type": "code",
   "execution_count": 2,
   "metadata": {},
   "outputs": [],
   "source": [
    "from sklearn.cluster import KMeans\n",
    "import numpy as np\n",
    "import csv\n",
    "import math\n",
    "import matplotlib.pyplot\n",
    "from matplotlib import pyplot as plt"
   ]
  },
  {
   "cell_type": "code",
   "execution_count": 3,
   "metadata": {},
   "outputs": [],
   "source": [
    "maxAcc = 0.0\n",
    "maxIter = 0\n",
    "C_Lambda = 0.03\n",
    "TrainingPercent = 80\n",
    "ValidationPercent = 10\n",
    "TestPercent = 10\n",
    "M = 10\n",
    "PHI = []\n",
    "IsSynthetic = False"
   ]
  },
  {
   "cell_type": "code",
   "execution_count": 4,
   "metadata": {},
   "outputs": [],
   "source": [
    "def GetTargetVector(filePath):\n",
    "    #Generates a vector from the target file\n",
    "    t = []\n",
    "    with open(filePath, 'rU') as f:\n",
    "        reader = csv.reader(f)\n",
    "        for row in reader:  \n",
    "            t.append(int(row[0]))\n",
    "    #print(\"Raw Training Generated..\")\n",
    "    return t\n",
    "\n",
    "def GenerateRawData(filePath, IsSynthetic):    \n",
    "    dataMatrix = [] \n",
    "    #reads data line by line and generates a feature matrix of the csv file\n",
    "    with open(filePath, 'rU') as fi:\n",
    "        reader = csv.reader(fi)\n",
    "        for row in reader:\n",
    "            dataRow = []\n",
    "            for column in row:\n",
    "                dataRow.append(float(column))\n",
    "            dataMatrix.append(dataRow)   \n",
    "    \n",
    "    if IsSynthetic == False :\n",
    "        '''If data contains any features which have 0 values, then the pseudoinverse of that data matrix can not be\n",
    "        computed hence, we delete those rows with zero values.'''\n",
    "        dataMatrix = np.delete(dataMatrix, [5,6,7,8,9], axis=1)\n",
    "    dataMatrix = np.transpose(dataMatrix)     \n",
    "    #print (\"Data Matrix Generated..\")\n",
    "    return dataMatrix\n",
    "\n",
    "\n",
    "'''Function for generating training, validation and testing target and data. It takes a percentage and \n",
    "an index and takes the values accordingly from the rawdata and rawtarget'''\n",
    "def GenerateTargetAndData(targetData,featureData,percentage,index):\n",
    "    size = int(math.ceil(len(targetData)*(percentage*0.01)))\n",
    "    end = index + size\n",
    "    if(index==0):\n",
    "        target = targetData[:end]\n",
    "        dataMatrix = featureData[:,0:end]\n",
    "    else:\n",
    "        target = targetData[index+1:end]\n",
    "        dataMatrix = featureData[:,index+1:end]\n",
    "\n",
    "    return np.array(target),dataMatrix\n",
    "\n",
    "\n",
    "def GenerateBigSigma(Data,TrainingPercent,IsSynthetic):\n",
    "    BigSigma    = np.zeros((len(Data),len(Data)))\n",
    "    DataT       = np.transpose(Data)\n",
    "    TrainingLen = math.ceil(len(DataT)*(TrainingPercent*0.01))        \n",
    "    varVect     = []\n",
    "    for i in range(0,len(DataT[0])):\n",
    "        vct = []\n",
    "        '''calculates variances of each feature vector'''\n",
    "        for j in range(0,int(TrainingLen)):\n",
    "            vct.append(Data[i][j])    \n",
    "        varVect.append(np.var(vct))\n",
    "    '''Here we do not care about the variances between different feature vector hence, we fill only the diagonal\n",
    "    elements for the big sigma matrix'''\n",
    "    for j in range(len(Data)):\n",
    "        BigSigma[j][j] = varVect[j]\n",
    "    '''To magnify the values as they are quite small we do a dot product with 200.'''\n",
    "    if IsSynthetic == True:\n",
    "        BigSigma = np.dot(3,BigSigma)\n",
    "    else:\n",
    "        BigSigma = np.dot(200,BigSigma)\n",
    "    #print (\"BigSigma Generated..\")\n",
    "    return BigSigma\n",
    "\n",
    "# evaluates the value for generating phi matrix\n",
    "def GetScalar(DataRow,MuRow, BigSigInv):  \n",
    "    R = np.subtract(DataRow,MuRow)\n",
    "    T = np.dot(BigSigInv,np.transpose(R))  \n",
    "    L = np.dot(R,T)\n",
    "    return L\n",
    "\n",
    "'''different basis function evaluations'''\n",
    "# Gaussian basis function\n",
    "def GetRadialBasisOut(DataRow,MuRow, BigSigInv):    \n",
    "    phi_x = math.exp(-0.5*GetScalar(DataRow,MuRow,BigSigInv))\n",
    "    return phi_x\n",
    "\n",
    "#Multi quadric basis function\n",
    "def GetRadialBasisMultiquadratic(DataRow,MuRow, BigSigInv):\n",
    "    phi_x = pow(GetScalar(DataRow,MuRow,BigSigInv)+1,0.5)\n",
    "    return phi_x\n",
    "\n",
    "#Inverse basis function\n",
    "def GetRadialBasisInverse(DataRow,MuRow, BigSigInv):\n",
    "    phi_x = 1/(pow(GetScalar(DataRow,MuRow,BigSigInv)+1,0.5))\n",
    "    return phi_x\n",
    "\n",
    "#Linear basis function\n",
    "def GetRadialBasisLinear(DataRow,MuRow, BigSigInv):\n",
    "    phi_x = GetScalar(DataRow,MuRow,BigSigInv)\n",
    "    return phi_x\n",
    "\n",
    "#cubic basis function\n",
    "def GetRadialBasisCubic(DataRow,MuRow, BigSigInv):\n",
    "    phi_x = pow(GetScalar(DataRow,MuRow,BigSigInv),3)\n",
    "    return phi_x\n",
    "\n",
    "#Quintic basis function\n",
    "def GetRadialBasisQuintic(DataRow,MuRow, BigSigInv):\n",
    "    phi_x = pow(GetScalar(DataRow,MuRow,BigSigInv),5)\n",
    "    return phi_x\n",
    "\n",
    "#thin plate basis function\n",
    "def GetRadialBasisThinPlate(DataRow,MuRow, BigSigInv):\n",
    "    r=GetScalar(DataRow,MuRow,BigSigInv)\n",
    "    phi_x = pow(r,2) + math.log(r)\n",
    "    return phi_x\n",
    "\n",
    "# generates phi matrix based on the type of basis function\n",
    "def GetPhiMatrix(Data, MuMatrix, BigSigma,BasisFunction='gaussian', TrainingPercent = 80):\n",
    "    DataT = np.transpose(Data)\n",
    "    TrainingLen = math.ceil(len(DataT)*(TrainingPercent*0.01))         \n",
    "    PHI = np.zeros((int(TrainingLen),len(MuMatrix))) \n",
    "    #takes inverse of big sigma matrix\n",
    "    BigSigInv = np.linalg.inv(BigSigma)\n",
    "    if(BasisFunction == 'gaussian'):\n",
    "         for  C in range(0,len(MuMatrix)):\n",
    "            for R in range(0,int(TrainingLen)):\n",
    "                PHI[R][C] = GetRadialBasisOut(DataT[R], MuMatrix[C], BigSigInv)\n",
    "    elif(BasisFunction == 'multiquadric'):\n",
    "         for  C in range(0,len(MuMatrix)):\n",
    "            for R in range(0,int(TrainingLen)):\n",
    "                PHI[R][C] = GetRadialBasisMultiquadratic(DataT[R], MuMatrix[C], BigSigInv)\n",
    "    elif(BasisFunction == 'inverse'):\n",
    "         for  C in range(0,len(MuMatrix)):\n",
    "            for R in range(0,int(TrainingLen)):\n",
    "                PHI[R][C] = GetRadialBasisInverse(DataT[R], MuMatrix[C], BigSigInv)\n",
    "    elif(BasisFunction == 'linear'):\n",
    "         for  C in range(0,len(MuMatrix)):\n",
    "            for R in range(0,int(TrainingLen)):\n",
    "                PHI[R][C] = GetRadialBasisLinear(DataT[R], MuMatrix[C], BigSigInv)\n",
    "    elif(BasisFunction == 'cubic'):\n",
    "         for  C in range(0,len(MuMatrix)):\n",
    "            for R in range(0,int(TrainingLen)):\n",
    "                PHI[R][C] = GetRadialBasisCubic(DataT[R], MuMatrix[C], BigSigInv)\n",
    "    elif(BasisFunction == 'quintic'):\n",
    "         for  C in range(0,len(MuMatrix)):\n",
    "            for R in range(0,int(TrainingLen)):\n",
    "                PHI[R][C] = GetRadialBasisQuintic(DataT[R], MuMatrix[C], BigSigInv)\n",
    "    elif(BasisFunction == 'thin_plate'):\n",
    "         for  C in range(0,len(MuMatrix)):\n",
    "            for R in range(0,int(TrainingLen)):\n",
    "                PHI[R][C] = GetRadialBasisThinPlate(DataT[R], MuMatrix[C], BigSigInv)            \n",
    "    #print (\"PHI Generated..\")\n",
    "    return PHI\n",
    "\n",
    "# generates the weights using the design matrix and target values\n",
    "def GetWeightsClosedForm(PHI, T, Lambda):\n",
    "    Lambda_I = np.identity(len(PHI[0]))\n",
    "    for i in range(0,len(PHI[0])):\n",
    "        Lambda_I[i][i] = Lambda\n",
    "    PHI_T       = np.transpose(PHI)\n",
    "    PHI_SQR     = np.dot(PHI_T,PHI)\n",
    "    '''Lambda here is used to regularize the model'''\n",
    "    PHI_SQR_LI  = np.add(Lambda_I,PHI_SQR)\n",
    "    PHI_SQR_INV = np.linalg.inv(PHI_SQR_LI)\n",
    "    INTER       = np.dot(PHI_SQR_INV, PHI_T)\n",
    "    W           = np.dot(INTER, T)\n",
    "    ##print (\"Training Weights Generated..\")\n",
    "    return W\n",
    "\n",
    "\n",
    "# generates predicted target values using weights and design matrix\n",
    "def GetValTest(VAL_PHI,W):\n",
    "    Y = np.dot(W,np.transpose(VAL_PHI))\n",
    "    ##print (\"Test Out Generated..\")\n",
    "    return Y\n",
    "\n",
    "# calculates Erms from the predicted output and the actual output values\n",
    "def GetErms(VAL_TEST_OUT,ValDataAct):\n",
    "    sum = 0.0\n",
    "    t=0\n",
    "    accuracy = 0.0\n",
    "    counter = 0\n",
    "    val = 0.0\n",
    "    for i in range (0,len(VAL_TEST_OUT)):\n",
    "        sum = sum + math.pow((ValDataAct[i] - VAL_TEST_OUT[i]),2)\n",
    "        if(int(np.around(VAL_TEST_OUT[i], 0)) == ValDataAct[i]):\n",
    "            counter+=1\n",
    "    accuracy = (float((counter*100))/float(len(VAL_TEST_OUT)))\n",
    "    ##print (\"Accuracy Generated..\")\n",
    "    ##print (\"Validation E_RMS : \" + str(math.sqrt(sum/len(VAL_TEST_OUT))))\n",
    "    return (str(accuracy) + ',' +  str(math.sqrt(sum/len(VAL_TEST_OUT))))\n",
    "\n",
    "# evaluates the accuracy and rms values for a given set of hyperparameters\n",
    "def evaluate(M,C_Lambda,BasisFunction,RawData,TrainingData,ValData,TestData):\n",
    "    kmeans = KMeans(n_clusters=M, random_state=0).fit(np.transpose(TrainingData))\n",
    "    Mu = kmeans.cluster_centers_\n",
    "\n",
    "    BigSigma     = GenerateBigSigma(RawData, TrainingPercent,IsSynthetic)\n",
    "    TRAINING_PHI = GetPhiMatrix(RawData, Mu, BigSigma,BasisFunction, TrainingPercent)\n",
    "    W            = GetWeightsClosedForm(TRAINING_PHI,TrainingTarget,(C_Lambda)) \n",
    "    TEST_PHI     = GetPhiMatrix(TestData, Mu, BigSigma,BasisFunction, 100) \n",
    "    VAL_PHI      = GetPhiMatrix(ValData, Mu, BigSigma,BasisFunction, 100)\n",
    "\n",
    "    TR_TEST_OUT  = GetValTest(TRAINING_PHI,W)\n",
    "    VAL_TEST_OUT = GetValTest(VAL_PHI,W)\n",
    "    TEST_OUT     = GetValTest(TEST_PHI,W)\n",
    "\n",
    "    TrainingAccuracy   = str(GetErms(TR_TEST_OUT,TrainingTarget))\n",
    "    ValidationAccuracy = str(GetErms(VAL_TEST_OUT,ValDataAct))\n",
    "    TestAccuracy       = str(GetErms(TEST_OUT,TestDataAct))\n",
    "\n",
    "    print (\"E_rms Training    = \" + str(float(TrainingAccuracy.split(',')[1])))\n",
    "    print (\"Accuracy Training =\" + str(float(TrainingAccuracy.split(',')[0])))\n",
    "    print (\"E_rms Validation  = \" + str(float(ValidationAccuracy.split(',')[1])))\n",
    "    print (\"Accuracy Validation =\" + str(float(ValidationAccuracy.split(',')[0])))\n",
    "    print (\"E_rms Testing     = \" + str(float(TestAccuracy.split(',')[1])))\n",
    "    print (\"Accuracy Testing =\" + str(float(TestAccuracy.split(',')[0])))\n",
    "    print()\n",
    "    return TestAccuracy"
   ]
  },
  {
   "cell_type": "markdown",
   "metadata": {},
   "source": [
    "## Fetch and Prepare Dataset"
   ]
  },
  {
   "cell_type": "code",
   "execution_count": 5,
   "metadata": {},
   "outputs": [
    {
     "name": "stderr",
     "output_type": "stream",
     "text": [
      "/anaconda3/lib/python3.6/site-packages/ipykernel_launcher.py:4: DeprecationWarning: 'U' mode is deprecated\n",
      "  after removing the cwd from sys.path.\n",
      "/anaconda3/lib/python3.6/site-packages/ipykernel_launcher.py:14: DeprecationWarning: 'U' mode is deprecated\n",
      "  \n"
     ]
    }
   ],
   "source": [
    "RawTarget = GetTargetVector('Querylevelnorm_t.csv')\n",
    "RawData   = GenerateRawData('Querylevelnorm_X.csv',IsSynthetic)"
   ]
  },
  {
   "cell_type": "markdown",
   "metadata": {},
   "source": [
    "## Prepare Training Data"
   ]
  },
  {
   "cell_type": "code",
   "execution_count": 6,
   "metadata": {},
   "outputs": [
    {
     "name": "stdout",
     "output_type": "stream",
     "text": [
      "(55699,)\n",
      "(41, 55699)\n"
     ]
    }
   ],
   "source": [
    "TrainingTarget,TrainingData = GenerateTargetAndData(RawTarget,RawData,TrainingPercent,0)\n",
    "print(TrainingTarget.shape)\n",
    "print(TrainingData.shape)"
   ]
  },
  {
   "cell_type": "markdown",
   "metadata": {},
   "source": [
    "## Prepare Validation Data"
   ]
  },
  {
   "cell_type": "code",
   "execution_count": 7,
   "metadata": {},
   "outputs": [
    {
     "name": "stdout",
     "output_type": "stream",
     "text": [
      "(6962,)\n",
      "(41, 6962)\n"
     ]
    }
   ],
   "source": [
    "ValDataAct,ValData = GenerateTargetAndData(RawTarget,RawData,ValidationPercent,(len(TrainingTarget)))\n",
    "print(ValDataAct.shape)\n",
    "print(ValData.shape)"
   ]
  },
  {
   "cell_type": "markdown",
   "metadata": {},
   "source": [
    "## Prepare Test Data"
   ]
  },
  {
   "cell_type": "code",
   "execution_count": 8,
   "metadata": {},
   "outputs": [
    {
     "name": "stdout",
     "output_type": "stream",
     "text": [
      "(6962,)\n",
      "(41, 6962)\n"
     ]
    }
   ],
   "source": [
    "TestDataAct,TestData = GenerateTargetAndData(RawTarget,RawData,TestPercent,(len(TrainingTarget)+len(ValDataAct)))\n",
    "print(ValDataAct.shape)\n",
    "print(ValData.shape)"
   ]
  },
  {
   "cell_type": "markdown",
   "metadata": {},
   "source": [
    "## Closed Form Solution [Finding Weights using Moore- Penrose pseudo- Inverse Matrix]"
   ]
  },
  {
   "cell_type": "markdown",
   "metadata": {},
   "source": [
    "### Trying out different basis functions and comparing RMS values"
   ]
  },
  {
   "cell_type": "code",
   "execution_count": 9,
   "metadata": {},
   "outputs": [
    {
     "name": "stdout",
     "output_type": "stream",
     "text": [
      "Basis Function used: multiquadric\n",
      "E_rms Training    = 0.5501744778851975\n",
      "Accuracy Training =74.04082658575558\n",
      "E_rms Validation  = 0.5393514265228088\n",
      "Accuracy Validation =74.6768170066073\n",
      "E_rms Testing     = 0.6283333598958549\n",
      "Accuracy Testing =69.81755494900158\n",
      "\n",
      "Basis Function used: inverse\n",
      "E_rms Training    = 0.5496212811228006\n",
      "Accuracy Training =73.76074974416058\n",
      "E_rms Validation  = 0.5391363649996613\n",
      "Accuracy Validation =74.36081585751221\n",
      "E_rms Testing     = 0.6277990704247892\n",
      "Accuracy Testing =69.93248096537853\n",
      "\n",
      "Basis Function used: gaussian\n",
      "E_rms Training    = 0.5494694067137861\n",
      "Accuracy Training =73.92233253738846\n",
      "E_rms Validation  = 0.538428174139098\n",
      "Accuracy Validation =74.6768170066073\n",
      "E_rms Testing     = 0.6279788453844335\n",
      "Accuracy Testing =69.87501795719005\n",
      "\n",
      "Basis Function used: linear\n",
      "E_rms Training    = 0.5502176552312726\n",
      "Accuracy Training =73.88283452126609\n",
      "E_rms Validation  = 0.5395191340948379\n",
      "Accuracy Validation =74.77736282677391\n",
      "E_rms Testing     = 0.6284506576330312\n",
      "Accuracy Testing =69.53023990805919\n",
      "\n",
      "Basis Function used: cubic\n",
      "E_rms Training    = 0.5769407109426855\n",
      "Accuracy Training =72.50040395698306\n",
      "E_rms Validation  = 0.5667174263148979\n",
      "Accuracy Validation =73.13990232691755\n",
      "E_rms Testing     = 0.6674241455154334\n",
      "Accuracy Testing =67.93564143082891\n",
      "\n",
      "Basis Function used: quintic\n",
      "E_rms Training    = 0.6427530195657057\n",
      "Accuracy Training =74.52198423670085\n",
      "E_rms Validation  = 0.6282629144122441\n",
      "Accuracy Validation =75.17954610744039\n",
      "E_rms Testing     = 0.740888388197828\n",
      "Accuracy Testing =70.23416175836805\n",
      "\n",
      "Basis Function used: thin_plate\n",
      "E_rms Training    = 0.5730215215621896\n",
      "Accuracy Training =74.09109678809314\n",
      "E_rms Validation  = 0.5559227561839516\n",
      "Accuracy Validation =75.06463659867855\n",
      "E_rms Testing     = 0.651770109508911\n",
      "Accuracy Testing =69.7600919408131\n",
      "\n"
     ]
    }
   ],
   "source": [
    "BasisFunctions = ['multiquadric','inverse','gaussian','linear','cubic','quintic','thin_plate']\n",
    "ErmsArr = []\n",
    "AccuracyArr = []\n",
    "for basisFunc in BasisFunctions:\n",
    "    print('Basis Function used:',basisFunc)\n",
    "    TestAccuracy = evaluate(M,C_Lambda,basisFunc,RawData,TrainingData,ValData,TestData)\n",
    "    ErmsArr.append(float(TestAccuracy.split(',')[1]))\n",
    "    AccuracyArr.append(float(TestAccuracy.split(',')[0]))\n",
    "    "
   ]
  },
  {
   "cell_type": "code",
   "execution_count": 12,
   "metadata": {},
   "outputs": [
    {
     "data": {
      "image/png": "[encoded data removed]",
      "text/plain": [
       "<Figure size 432x288 with 2 Axes>"
      ]
     },
     "metadata": {},
     "output_type": "display_data"
    }
   ],
   "source": [
    "plt.figure(1)               \n",
    "plt.subplot(211)            \n",
    "plt.plot(BasisFunctions, AccuracyArr)\n",
    "plt.ylabel('Accuracy')\n",
    "plt.xlabel('Basis Functions')\n",
    "plt.subplot(212)             \n",
    "plt.plot(BasisFunctions, ErmsArr)\n",
    "plt.ylabel('Erms')\n",
    "plt.xlabel('Basis Functions')\n",
    "plt.show()"
   ]
  },
  {
   "cell_type": "code",
   "execution_count": 33,
   "metadata": {},
   "outputs": [
    {
     "name": "stdout",
     "output_type": "stream",
     "text": [
      "(1, 41)\n",
      "(41, 41)\n",
      "(55699, 1)\n",
      "(1,)\n",
      "(6962, 1)\n",
      "(6961, 1)\n"
     ]
    }
   ],
   "source": [
    "# printing the dimensions of all the matrices used\n",
    "print(Mu.shape)\n",
    "print(BigSigma.shape)\n",
    "print(TRAINING_PHI.shape)\n",
    "print(W.shape)\n",
    "print(VAL_PHI.shape)\n",
    "print(TEST_PHI.shape)"
   ]
  },
  {
   "cell_type": "markdown",
   "metadata": {},
   "source": [
    "### Trying different values for number of clusters/basis functions and observe how Erms changes"
   ]
  },
  {
   "cell_type": "code",
   "execution_count": 15,
   "metadata": {},
   "outputs": [
    {
     "name": "stdout",
     "output_type": "stream",
     "text": [
      "Lambda = 0.03\n",
      "Number of Basis Functions used 1\n",
      "E_rms Training    = 0.565137868842015\n",
      "Accuracy Training =74.52198423670085\n",
      "E_rms Validation  = 0.5543829496065422\n",
      "Accuracy Validation =75.17954610744039\n",
      "E_rms Testing     = 0.6402356289634681\n",
      "Accuracy Testing =70.23416175836805\n",
      "\n",
      "Number of Basis Functions used 2\n",
      "E_rms Training    = 0.5627948139796906\n",
      "Accuracy Training =74.52198423670085\n",
      "E_rms Validation  = 0.5509381914793687\n",
      "Accuracy Validation =75.17954610744039\n",
      "E_rms Testing     = 0.638449311889341\n",
      "Accuracy Testing =70.23416175836805\n",
      "\n",
      "Number of Basis Functions used 5\n",
      "E_rms Training    = 0.552832495074514\n",
      "Accuracy Training =74.50043986427045\n",
      "E_rms Validation  = 0.5410872787323588\n",
      "Accuracy Validation =75.1364550416547\n",
      "E_rms Testing     = 0.6311320276632661\n",
      "Accuracy Testing =70.11923574199109\n",
      "\n",
      "Number of Basis Functions used 10\n",
      "E_rms Training    = 0.5494694067137861\n",
      "Accuracy Training =73.92233253738846\n",
      "E_rms Validation  = 0.538428174139098\n",
      "Accuracy Validation =74.6768170066073\n",
      "E_rms Testing     = 0.6279788453844335\n",
      "Accuracy Testing =69.87501795719005\n",
      "\n",
      "Number of Basis Functions used 15\n",
      "E_rms Training    = 0.5469930517883024\n",
      "Accuracy Training =73.50580800373436\n",
      "E_rms Validation  = 0.5374632142919317\n",
      "Accuracy Validation =74.46136167767882\n",
      "E_rms Testing     = 0.6273341085297957\n",
      "Accuracy Testing =69.04180433845711\n",
      "\n",
      "Number of Basis Functions used 20\n",
      "E_rms Training    = 0.5461233210910296\n",
      "Accuracy Training =73.33524838866047\n",
      "E_rms Validation  = 0.538360039845398\n",
      "Accuracy Validation =73.70008618213157\n",
      "E_rms Testing     = 0.6261902077745802\n",
      "Accuracy Testing =68.55336876885505\n",
      "\n",
      "Number of Basis Functions used 40\n",
      "E_rms Training    = 0.5416041034110464\n",
      "Accuracy Training =73.09646492755705\n",
      "E_rms Validation  = 0.5368055097409874\n",
      "Accuracy Validation =73.91554151106004\n",
      "E_rms Testing     = 0.620711998023506\n",
      "Accuracy Testing =69.21419336302256\n",
      "\n",
      "Number of Basis Functions used 50\n",
      "E_rms Training    = 0.5407355725304067\n",
      "Accuracy Training =73.0138781665739\n",
      "E_rms Validation  = 0.5369459424806953\n",
      "Accuracy Validation =73.3409939672508\n",
      "E_rms Testing     = 0.6197176342546378\n",
      "Accuracy Testing =69.28602212325815\n",
      "\n",
      "Number of Basis Functions used 70\n",
      "E_rms Training    = 0.5393655947868855\n",
      "Accuracy Training =73.21316361155496\n",
      "E_rms Validation  = 0.5359024375634844\n",
      "Accuracy Validation =73.3409939672508\n",
      "E_rms Testing     = 0.6189670395557922\n",
      "Accuracy Testing =69.11363309869272\n",
      "\n",
      "Number of Basis Functions used 80\n",
      "E_rms Training    = 0.5390535086761361\n",
      "Accuracy Training =73.15212122300221\n",
      "E_rms Validation  = 0.5359904557184244\n",
      "Accuracy Validation =73.47026716460788\n",
      "E_rms Testing     = 0.6187472197680969\n",
      "Accuracy Testing =69.02743858641\n",
      "\n",
      "Number of Basis Functions used 100\n",
      "E_rms Training    = 0.5386691233394032\n",
      "Accuracy Training =73.11800929998743\n",
      "E_rms Validation  = 0.5356554245659663\n",
      "Accuracy Validation =73.51335823039356\n",
      "E_rms Testing     = 0.6186146524125855\n",
      "Accuracy Testing =68.85504956184457\n",
      "\n"
     ]
    }
   ],
   "source": [
    "Num_of_basis_functions=[1,2,5,10,15,20,40,50,70,80,100]\n",
    "ErmsArr = []\n",
    "AccuracyArr = []\n",
    "print('Lambda =',C_Lambda)\n",
    "for M in Num_of_basis_functions:\n",
    "    TestAccuracy = evaluate(M,C_Lambda,'gaussian',RawData,TrainingData,ValData,TestData)\n",
    "    ErmsArr.append(float(TestAccuracy.split(',')[1]))\n",
    "    AccuracyArr.append(float(TestAccuracy.split(',')[0]))\n",
    "    "
   ]
  },
  {
   "cell_type": "code",
   "execution_count": 17,
   "metadata": {},
   "outputs": [
    {
     "data": {
      "image/png": "[encoded data removed]",
      "text/plain": [
       "<Figure size 432x288 with 2 Axes>"
      ]
     },
     "metadata": {},
     "output_type": "display_data"
    }
   ],
   "source": [
    "plt.figure(1)               \n",
    "plt.subplot(211)            \n",
    "plt.plot(Num_of_basis_functions, AccuracyArr)\n",
    "plt.ylabel('Accuracy')\n",
    "plt.xlabel('Num of basis_functions')\n",
    "plt.subplot(212)             \n",
    "plt.plot(Num_of_basis_functions, ErmsArr)\n",
    "plt.ylabel('Erms')\n",
    "plt.xlabel('Number of Basis Functions')\n",
    "plt.show()"
   ]
  },
  {
   "cell_type": "markdown",
   "metadata": {},
   "source": [
    "### Trying out different values for the regulizer and observing how Erms changes"
   ]
  },
  {
   "cell_type": "code",
   "execution_count": 19,
   "metadata": {},
   "outputs": [
    {
     "name": "stdout",
     "output_type": "stream",
     "text": [
      "Number of Basis Functions used = 1\n",
      "Value for regularizer 0.0001\n",
      "E_rms Training    = 0.5651378688419794\n",
      "Accuracy Training =74.52198423670085\n",
      "E_rms Validation  = 0.5543829534189716\n",
      "Accuracy Validation =75.17954610744039\n",
      "E_rms Testing     = 0.6402356058953684\n",
      "Accuracy Testing =70.23416175836805\n",
      "\n",
      "Value for regularizer 0.01\n",
      "E_rms Training    = 0.5651378688419868\n",
      "Accuracy Training =74.52198423670085\n",
      "E_rms Validation  = 0.5543829521566545\n",
      "Accuracy Validation =75.17954610744039\n",
      "E_rms Testing     = 0.6402356135332975\n",
      "Accuracy Testing =70.23416175836805\n",
      "\n",
      "Value for regularizer 0.1\n",
      "E_rms Training    = 0.5651378688423746\n",
      "Accuracy Training =74.52198423670085\n",
      "E_rms Validation  = 0.5543829406814273\n",
      "Accuracy Validation =75.17954610744039\n",
      "E_rms Testing     = 0.6402356829691717\n",
      "Accuracy Testing =70.23416175836805\n",
      "\n",
      "Value for regularizer 0.5\n",
      "E_rms Training    = 0.5651378688517864\n",
      "Accuracy Training =74.52198423670085\n",
      "E_rms Validation  = 0.5543828896888023\n",
      "Accuracy Validation =75.17954610744039\n",
      "E_rms Testing     = 0.640235991576458\n",
      "Accuracy Testing =70.23416175836805\n",
      "\n",
      "Value for regularizer 1\n",
      "E_rms Training    = 0.5651378688811904\n",
      "Accuracy Training =74.52198423670085\n",
      "E_rms Validation  = 0.5543828259672706\n",
      "Accuracy Validation =75.17954610744039\n",
      "E_rms Testing     = 0.6402363773433519\n",
      "Accuracy Testing =70.23416175836805\n",
      "\n",
      "Value for regularizer 5\n",
      "E_rms Training    = 0.5651378698219907\n",
      "Accuracy Training =74.52198423670085\n",
      "E_rms Validation  = 0.5543823169648635\n",
      "Accuracy Validation =75.17954610744039\n",
      "E_rms Testing     = 0.6402394637898843\n",
      "Accuracy Testing =70.23416175836805\n",
      "\n",
      "Value for regularizer 10\n",
      "E_rms Training    = 0.5651378727611566\n",
      "Accuracy Training =74.52198423670085\n",
      "E_rms Validation  = 0.554381682635692\n",
      "Accuracy Validation =75.17954610744039\n",
      "E_rms Testing     = 0.6402433226260125\n",
      "Accuracy Testing =70.23416175836805\n",
      "\n",
      "Value for regularizer 100\n",
      "E_rms Training    = 0.5651382592302806\n",
      "Accuracy Training =74.52198423670085\n",
      "E_rms Validation  = 0.5543706287294412\n",
      "Accuracy Validation =75.17954610744039\n",
      "E_rms Testing     = 0.6403129285127038\n",
      "Accuracy Testing =70.23416175836805\n",
      "\n",
      "Value for regularizer 1000\n",
      "E_rms Training    = 0.5651754254657633\n",
      "Accuracy Training =74.52198423670085\n",
      "E_rms Validation  = 0.5542964905268477\n",
      "Accuracy Validation =75.17954610744039\n",
      "E_rms Testing     = 0.6410233028780147\n",
      "Accuracy Testing =70.23416175836805\n",
      "\n"
     ]
    }
   ],
   "source": [
    "M=1\n",
    "ErmsArr = []\n",
    "AccuracyArr = []\n",
    "print('Number of Basis Functions used =',M)\n",
    "Lambda = [0.0001,0.01,0.1,0.5,1,5,10,100,1000]\n",
    "for C_Lambda in Lambda:\n",
    "    print('Value for regularizer',C_Lambda)\n",
    "    TestAccuracy = evaluate(M,C_Lambda,'gaussian',RawData,TrainingData,ValData,TestData)\n",
    "    ErmsArr.append(float(TestAccuracy.split(',')[1]))\n",
    "    AccuracyArr.append(float(TestAccuracy.split(',')[0]))\n",
    "    "
   ]
  },
  {
   "cell_type": "code",
   "execution_count": 21,
   "metadata": {},
   "outputs": [
    {
     "data": {
      "image/png": "[encoded data removed]",
      "text/plain": [
       "<Figure size 432x288 with 2 Axes>"
      ]
     },
     "metadata": {},
     "output_type": "display_data"
    }
   ],
   "source": [
    "plt.figure(1)               \n",
    "plt.subplot(211)            \n",
    "plt.plot(Lambda, AccuracyArr)\n",
    "plt.ylabel('Accuracy')\n",
    "plt.xlabel('Value for regularizer')\n",
    "plt.subplot(212)             \n",
    "plt.plot(Lambda, ErmsArr)\n",
    "plt.ylabel('Erms')\n",
    "plt.xlabel('Value for regularizer')\n",
    "plt.show()"
   ]
  },
  {
   "cell_type": "markdown",
   "metadata": {},
   "source": [
    "## Finding Erms on training, validation and test set "
   ]
  },
  {
   "cell_type": "code",
   "execution_count": 28,
   "metadata": {},
   "outputs": [
    {
     "name": "stdout",
     "output_type": "stream",
     "text": [
      "UBITname      = nishimeh\n",
      "Person Number = 50291671\n",
      "----------------------------------------------------\n",
      "------------------LeToR Data------------------------\n",
      "----------------------------------------------------\n",
      "-------Closed Form with Radial Basis Function-------\n",
      "----------------------------------------------------\n",
      "M = 1 \n",
      "Lambda = 0.001,\n",
      "Basis Function used: Gaussian\n",
      "E_rms Training    = 0.5651378688419847\n",
      "Accuracy Training =74.52198423670085\n",
      "E_rms Validation  = 0.5543829533042154\n",
      "Accuracy Validation =75.17954610744039\n",
      "E_rms Testing     = 0.6402356065897246\n",
      "Accuracy Testing =70.23416175836805\n",
      "\n"
     ]
    }
   ],
   "source": [
    "print ('UBITname      = nishimeh')\n",
    "print ('Person Number = 50291671')\n",
    "print ('----------------------------------------------------')\n",
    "print (\"------------------LeToR Data------------------------\")\n",
    "print ('----------------------------------------------------')\n",
    "print (\"-------Closed Form with Radial Basis Function-------\")\n",
    "print ('----------------------------------------------------')\n",
    "print (\"Regularizer value, lambda = 0.001, Number of basis functions used= 1, type of basis function used: gaussian\")\n",
    "M=1\n",
    "C_Lambda=0.001\n",
    "TestAccuracy = evaluate(M,C_Lambda,'gaussian',RawData,TrainingData,ValData,TestData)"
   ]
  },
  {
   "cell_type": "markdown",
   "metadata": {},
   "source": [
    "## Gradient Descent solution for Linear Regression"
   ]
  },
  {
   "cell_type": "code",
   "execution_count": 138,
   "metadata": {},
   "outputs": [
    {
     "name": "stdout",
     "output_type": "stream",
     "text": [
      "----------------------------------------------------\n",
      "--------------Please Wait for 2 mins!----------------\n",
      "----------------------------------------------------\n"
     ]
    }
   ],
   "source": [
    "print ('----------------------------------------------------')\n",
    "print ('--------------Please Wait for 2 mins!----------------')\n",
    "print ('----------------------------------------------------')"
   ]
  },
  {
   "cell_type": "code",
   "execution_count": 30,
   "metadata": {},
   "outputs": [
    {
     "name": "stdout",
     "output_type": "stream",
     "text": [
      "Regularizer value, lambda = 0.001, Number of basis functions used= 1, type of basis function used: gaussian\n",
      "learning rate = 0.01\n",
      "\n",
      "E_rms Training   = 0.56515\n",
      "E_rms Validation = 0.55428\n",
      "E_rms Testing    = 0.63592\n",
      "learning rate = 0.05\n",
      "\n",
      "E_rms Training   = 0.56515\n",
      "E_rms Validation = 0.55428\n",
      "E_rms Testing    = 0.63592\n",
      "learning rate = 0.1\n",
      "\n",
      "E_rms Training   = 0.56514\n",
      "E_rms Validation = 0.55428\n",
      "E_rms Testing    = 0.63592\n",
      "learning rate = 0.15\n",
      "\n",
      "E_rms Training   = 0.56514\n",
      "E_rms Validation = 0.55428\n",
      "E_rms Testing    = 0.63592\n",
      "learning rate = 0.2\n",
      "\n",
      "E_rms Training   = 0.56514\n",
      "E_rms Validation = 0.55428\n",
      "E_rms Testing    = 0.63592\n",
      "learning rate = 0.25\n",
      "\n",
      "E_rms Training   = 0.56514\n",
      "E_rms Validation = 0.55428\n",
      "E_rms Testing    = 0.63591\n",
      "learning rate = 0.3\n",
      "\n",
      "E_rms Training   = 0.56514\n",
      "E_rms Validation = 0.55428\n",
      "E_rms Testing    = 0.63591\n",
      "learning rate = 0.35\n",
      "\n",
      "E_rms Training   = 0.56514\n",
      "E_rms Validation = 0.55428\n",
      "E_rms Testing    = 0.63591\n",
      "learning rate = 0.4\n",
      "\n",
      "E_rms Training   = 0.56514\n",
      "E_rms Validation = 0.55428\n",
      "E_rms Testing    = 0.63591\n"
     ]
    }
   ],
   "source": [
    "#initializing weights\n",
    "W_Now        = np.dot(10, W)\n",
    "La           = 2\n",
    "learningRate = [0.01,0.05,0.1,0.15,0.2,0.25,0.3,0.35,0.4]\n",
    "\n",
    "print ('Regularizer value, lambda = 0.001, Number of basis functions used= 1, type of basis function used: gaussian')\n",
    "for lr in learningRate:\n",
    "    print('learning rate =',lr)\n",
    "    L_Erms_Val   = []\n",
    "    L_Erms_TR    = []\n",
    "    L_Erms_Test  = []\n",
    "    W_Mat        = []\n",
    "    for i in range(0,400):\n",
    "        # adapting weights according to the learning rate\n",
    "        #print ('---------Iteration: ' + str(i) + '--------------')\n",
    "        Delta_E_D     = -np.dot((TrainingTarget[i] - np.dot(np.transpose(W_Now),TRAINING_PHI[i])),TRAINING_PHI[i])\n",
    "        La_Delta_E_W  = np.dot(La,W_Now)\n",
    "        Delta_E       = np.add(Delta_E_D,La_Delta_E_W)    \n",
    "        Delta_W       = -np.dot(lr,Delta_E)\n",
    "        W_T_Next      = W_Now + Delta_W\n",
    "        W_Now         = W_T_Next\n",
    "        \n",
    "        # calculating error and accuracy during the learning process\n",
    "        #-----------------TrainingData Accuracy---------------------#\n",
    "        TR_TEST_OUT   = GetValTest(TRAINING_PHI,W_T_Next) \n",
    "        Erms_TR       = GetErms(TR_TEST_OUT,TrainingTarget)\n",
    "        L_Erms_TR.append(float(Erms_TR.split(',')[1]))\n",
    "\n",
    "        #-----------------ValidationData Accuracy---------------------#\n",
    "        VAL_TEST_OUT  = GetValTest(VAL_PHI,W_T_Next) \n",
    "        Erms_Val      = GetErms(VAL_TEST_OUT,ValDataAct)\n",
    "        L_Erms_Val.append(float(Erms_Val.split(',')[1]))\n",
    "\n",
    "        #-----------------TestingData Accuracy---------------------#\n",
    "        TEST_OUT      = GetValTest(TEST_PHI,W_T_Next) \n",
    "        Erms_Test = GetErms(TEST_OUT,TestDataAct)\n",
    "        L_Erms_Test.append(float(Erms_Test.split(',')[1]))\n",
    "    print ()\n",
    "\n",
    "    print (\"E_rms Training   = \" + str(np.around(min(L_Erms_TR),5)))\n",
    "    print (\"E_rms Validation = \" + str(np.around(min(L_Erms_Val),5)))\n",
    "    print (\"E_rms Testing    = \" + str(np.around(min(L_Erms_Test),5)))"
   ]
  },
  {
   "cell_type": "code",
   "execution_count": 37,
   "metadata": {},
   "outputs": [
    {
     "data": {
      "image/png": "[encoded data removed]",
      "text/plain": [
       "<Figure size 432x288 with 3 Axes>"
      ]
     },
     "metadata": {},
     "output_type": "display_data"
    }
   ],
   "source": [
    "i = [j for j in range(400)]\n",
    "plt.figure(1)               \n",
    "plt.subplot(311)            \n",
    "plt.plot(i, L_Erms_Test)\n",
    "plt.ylabel('RMS testing')\n",
    "plt.xlabel('Iterations')\n",
    "plt.subplot(312)             \n",
    "plt.plot(i, L_Erms_Val)\n",
    "plt.ylabel('RMS Validation')\n",
    "plt.xlabel('Iterations')\n",
    "plt.subplot(313)             \n",
    "plt.plot(i, L_Erms_TR)\n",
    "plt.ylabel('RMS Training')\n",
    "plt.xlabel('Iterations')\n",
    "plt.show()"
   ]
  }
 ],
 "metadata": {
  "kernelspec": {
   "display_name": "Python 3",
   "language": "python",
   "name": "python3"
  },
  "language_info": {
   "codemirror_mode": {
    "name": "ipython",
    "version": 3
   },
   "file_extension": ".py",
   "mimetype": "text/x-python",
   "name": "python",
   "nbconvert_exporter": "python",
   "pygments_lexer": "ipython3",
   "version": "3.6.5"
  }
 },
 "nbformat": 4,
 "nbformat_minor": 2
}
